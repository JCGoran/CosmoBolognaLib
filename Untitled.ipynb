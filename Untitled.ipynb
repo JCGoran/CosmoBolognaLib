{
 "cells": [
  {
   "cell_type": "code",
   "execution_count": 139,
   "metadata": {},
   "outputs": [],
   "source": [
    "import numpy as np\n",
    "from math import sqrt, fabs\n",
    "import matplotlib.pyplot as plt\n",
    "from scipy.integrate import quad"
   ]
  },
  {
   "cell_type": "code",
   "execution_count": 140,
   "metadata": {},
   "outputs": [],
   "source": [
    "def znorm(q1, q2, x):\n",
    "    return sqrt(q1*q1+q2*q2+2*q1*q2*x)"
   ]
  },
  {
   "cell_type": "code",
   "execution_count": 141,
   "metadata": {},
   "outputs": [],
   "source": [
    "def alpha(q1, q2, x):\n",
    "    return 1+q2/q1*x\n",
    "\n",
    "def beta(q1, q2, x):\n",
    "    return 0.5*x*(q2/q1-q1/q2)+x*x"
   ]
  },
  {
   "cell_type": "code",
   "execution_count": 142,
   "metadata": {},
   "outputs": [],
   "source": [
    "def F2(q1, q2, x):\n",
    "    return 5./7+0.5*x*(q2/q1+q1/q2)+2./7*x*x"
   ]
  },
  {
   "cell_type": "code",
   "execution_count": 143,
   "metadata": {},
   "outputs": [],
   "source": [
    "def G2(q1, q2, x):\n",
    "    return 3./7+0.5*x*(q2/q1+q1/q2)+4./7*x*x"
   ]
  },
  {
   "cell_type": "code",
   "execution_count": 144,
   "metadata": {},
   "outputs": [],
   "source": [
    "rr = np.logspace(-1, 2, 100)"
   ]
  },
  {
   "cell_type": "code",
   "execution_count": 145,
   "metadata": {},
   "outputs": [
    {
     "data": {
      "text/plain": [
       "(1.469490138631285, 5.76656722373059e-10)"
      ]
     },
     "execution_count": 145,
     "metadata": {},
     "output_type": "execute_result"
    }
   ],
   "source": [
    "def integrand(x, r):\n",
    "    return F2(r, znorm(1, r, -x), x)\n",
    "\n",
    "ii = [quad(integrand, a=0, b=1, args=_r)[0] for _r in rr]\n",
    "\n",
    "quad(integrand, a=0, b=1, args=1)"
   ]
  },
  {
   "cell_type": "code",
   "execution_count": 146,
   "metadata": {},
   "outputs": [
    {
     "data": {
      "text/plain": [
       "[<matplotlib.lines.Line2D at 0x114ede5c0>]"
      ]
     },
     "execution_count": 146,
     "metadata": {},
     "output_type": "execute_result"
    },
    {
     "data": {
      "image/png": "[encoded data removed]",
      "text/plain": [
       "<Figure size 432x288 with 1 Axes>"
      ]
     },
     "metadata": {
      "needs_background": "light"
     },
     "output_type": "display_data"
    }
   ],
   "source": [
    "plt.loglog(rr, ii, '-')"
   ]
  },
  {
   "cell_type": "code",
   "execution_count": 147,
   "metadata": {},
   "outputs": [],
   "source": [
    "def mathfunc(r):\n",
    "    r2 = r*r\n",
    "    aa = sqrt(1+r2)\n",
    "    ss = np.sign(-1+r)\n",
    "    return (7*aa+r2*(49*aa+2*r*(85+21*r*aa))+ss*(7+35*r2*r-42*r2*r2*r))/(210*r2*r)\n",
    "\n",
    "ff = [mathfunc(_r) for _r in rr]"
   ]
  },
  {
   "cell_type": "code",
   "execution_count": 148,
   "metadata": {},
   "outputs": [
    {
     "data": {
      "text/plain": [
       "[<matplotlib.lines.Line2D at 0x11487ea90>]"
      ]
     },
     "execution_count": 148,
     "metadata": {},
     "output_type": "execute_result"
    },
    {
     "data": {
      "image/png": "[encoded data removed]",
      "text/plain": [
       "<Figure size 432x288 with 1 Axes>"
      ]
     },
     "metadata": {
      "needs_background": "light"
     },
     "output_type": "display_data"
    }
   ],
   "source": [
    "plt.loglog(rr, ii, '-')\n",
    "plt.loglog(rr, ff, '-')"
   ]
  },
  {
   "cell_type": "code",
   "execution_count": 218,
   "metadata": {},
   "outputs": [],
   "source": [
    "def beta(q1, q2, q3, x12, x23, x31, epsilon):\n",
    "    \n",
    "    qsum_2 = q1*q1+q2*q2+q3*q3+2*q1*q2*x12+2*q1*q3*x31+2*q2*q3*x23\n",
    "    q12_2 = znorm(q1, q2, x12)**2+epsilon**2\n",
    "    q23_2 = znorm(q2, q3, x23)**2+epsilon**2\n",
    "    \n",
    "    b1 = qsum_2/(q1*q1*q23_2)*(q1*q2*x12+q1*q3*x31)\n",
    "    b2 = qsum_2/(q3*q3*q12_2)*(q3*q1*x31+q3*q2*x23)\n",
    "    \n",
    "    return b1, b2\n",
    "\n",
    "def F3(q1, q2, q3, x12, x23, x31, epsilon=1.e-6):\n",
    "    q12 = sqrt(znorm(q1, q2, x12)**2+epsilon**2)\n",
    "    q23 = sqrt(znorm(q2, q3, x23)**2+epsilon**2)\n",
    "    \n",
    "    a1 = 1.+(q2*x12+q3*x31)/q1\n",
    "    a2 = 1.+(q3*q1*x31+q2*q3*x23)/q12**2\n",
    "    \n",
    "    b1, b2 = beta(q1, q2, q3, x12, x23, x31, epsilon)\n",
    "    \n",
    "    #b1 = 0.5*(q1*q2*x12+q1*q3*x31)/(q1**2*q23**2)\n",
    "    #b2 = 0.5*(q2*q3*x23+q1*q3*x31)/(q3**2*q12**2)\n",
    "    \n",
    "    T1 = (7*a1*F2(q2, q3, x23)+2*b1*G2(q2, q3, x23))\n",
    "    T2 = G2(q1, q2, x12)*(7*a2+2*b2)\n",
    " \n",
    "    return (T1+T2)/18"
   ]
  },
  {
   "cell_type": "code",
   "execution_count": 231,
   "metadata": {},
   "outputs": [],
   "source": [
    "def F3s(q1, q2, q3, x12, x23, x31, eps):\n",
    "    ff = F3(q1, q2, q3, x12, x23, x31, eps)+\\\n",
    "         F3(q2, q1, q3, x12, x31, x23, eps)+\\\n",
    "         F3(q3, q2, q1, x23, x12, x31, eps)+\\\n",
    "         F3(q1, q3, q2, x31, x23, x12, eps)+\\\n",
    "         F3(q2, q3, q1, x23, x31, x12, eps)+\\\n",
    "         F3(q3, q1, q2, x31, x12, x23, eps)\n",
    "\n",
    "    return ff/6"
   ]
  },
  {
   "cell_type": "code",
   "execution_count": 232,
   "metadata": {},
   "outputs": [],
   "source": [
    "def integrand(x, r, k, eps):\n",
    "    return F3s(1, r, r, x, -1, -x, eps)\n",
    "\n",
    "ii1 = [quad(integrand, a=0, b=1, args=(_r, 2, 1.e-10))[0] for _r in rr]\n",
    "ii2 = [quad(integrand, a=0, b=1, args=(_r, 2, 1.e-8))[0]  for _r in rr]\n",
    "ii3 = [quad(integrand, a=0, b=1, args=(_r, 2, 1.e-6))[0]  for _r in rr]\n",
    "ii4 = [quad(integrand, a=0, b=1, args=(_r, 2, 1.e-4))[0]  for _r in rr]\n",
    "ii5 = [quad(integrand, a=0, b=1, args=(_r, 2, 1.e-2))[0]  for _r in rr]"
   ]
  },
  {
   "cell_type": "code",
   "execution_count": 233,
   "metadata": {},
   "outputs": [
    {
     "data": {
      "text/plain": [
       "[<matplotlib.lines.Line2D at 0x11659cd30>]"
      ]
     },
     "execution_count": 233,
     "metadata": {},
     "output_type": "execute_result"
    },
    {
     "data": {
      "image/png": "[encoded data removed]",
      "text/plain": [
       "<Figure size 432x288 with 1 Axes>"
      ]
     },
     "metadata": {
      "needs_background": "light"
     },
     "output_type": "display_data"
    }
   ],
   "source": [
    "plt.semilogx(rr, ii1)\n",
    "plt.semilogx(rr, ii2)\n",
    "plt.semilogx(rr, ii3)\n",
    "plt.semilogx(rr, ii4)\n",
    "plt.semilogx(rr, ii5)"
   ]
  },
  {
   "cell_type": "code",
   "execution_count": 117,
   "metadata": {},
   "outputs": [],
   "source": [
    "def test(k, r):\n",
    "    r2 = r*r\n",
    "    r4 = r2*r2\n",
    "    r5 = r4*r\n",
    "    AA = k*k*k/(252*4*np.pi**2)\n",
    "    BB = (12/r4-158/r2+100-42*r2)\n",
    "    if r==1:\n",
    "        CC = 0\n",
    "    else:\n",
    "        CC = 3/r5*(7*r2+2)*(r2-1)**3*np.log(fabs((r+1)/(r-1)))\n",
    "    return AA*(BB+CC)"
   ]
  },
  {
   "cell_type": "code",
   "execution_count": 118,
   "metadata": {},
   "outputs": [],
   "source": [
    "ff = [test(1, _r) for _r in rr]"
   ]
  },
  {
   "cell_type": "code",
   "execution_count": 119,
   "metadata": {},
   "outputs": [
    {
     "data": {
      "text/plain": [
       "[<matplotlib.lines.Line2D at 0x114648160>]"
      ]
     },
     "execution_count": 119,
     "metadata": {},
     "output_type": "execute_result"
    },
    {
     "data": {
      "image/png": "[encoded data removed]",
      "text/plain": [
       "<Figure size 432x288 with 1 Axes>"
      ]
     },
     "metadata": {
      "needs_background": "light"
     },
     "output_type": "display_data"
    }
   ],
   "source": [
    "plt.semilogx(rr, ff)"
   ]
  },
  {
   "cell_type": "code",
   "execution_count": null,
   "metadata": {},
   "outputs": [],
   "source": []
  }
 ],
 "metadata": {
  "kernelspec": {
   "display_name": "Python 3",
   "language": "python",
   "name": "python3"
  },
  "language_info": {
   "codemirror_mode": {
    "name": "ipython",
    "version": 3
   },
   "file_extension": ".py",
   "mimetype": "text/x-python",
   "name": "python",
   "nbconvert_exporter": "python",
   "pygments_lexer": "ipython3",
   "version": "3.7.3"
  }
 },
 "nbformat": 4,
 "nbformat_minor": 4
}
