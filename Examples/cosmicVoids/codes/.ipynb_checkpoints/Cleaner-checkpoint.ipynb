{
 "cells": [
  {
   "cell_type": "markdown",
   "metadata": {},
   "source": [
    "# Cleaner.ipynb #"
   ]
  },
  {
   "cell_type": "markdown",
   "metadata": {},
   "source": [
    "Code aimed to clean catalogues of cosmic voids. The only data requested are the void centres and the position of the tracers (and evetually their masses). The algorithm will provide to remove the spurious voids, to rescale their radii to a specific density threshold and to reject voids in case of overlaps."
   ]
  },
  {
   "cell_type": "markdown",
   "metadata": {},
   "source": [
    "Import CBL functions and system modules:"
   ]
  },
  {
   "cell_type": "code",
   "execution_count": null,
   "metadata": {
    "scrolled": true
   },
   "outputs": [],
   "source": [
    "import CosmoBolognaLib as cbl                                 \n",
    "from CosmoBolognaLib import ErrorCBL\n",
    "\n",
    "import time\n",
    "import sys\n",
    "import os"
   ]
  },
  {
   "cell_type": "markdown",
   "metadata": {},
   "source": [
    "In order to display the standard output stream of the function defined in the C++ environment the package wurlitzer (see https://github.com/minrk/wurlitzer) has to be installed and load."
   ]
  },
  {
   "cell_type": "code",
   "execution_count": null,
   "metadata": {},
   "outputs": [],
   "source": [
    "%load_ext wurlitzer"
   ]
  },
  {
   "cell_type": "markdown",
   "metadata": {},
   "source": [
    "The code reads the paramters from a file:"
   ]
  },
  {
   "cell_type": "code",
   "execution_count": null,
   "metadata": {},
   "outputs": [],
   "source": [
    "filename = \"../input/parameters.ini\"\n",
    "print \" Loading parameters from\", filename\n",
    "param = cbl.ReadParameters(filename)"
   ]
  },
  {
   "cell_type": "markdown",
   "metadata": {},
   "source": [
    "The type of coordinate are selected (attention: observed coordinates are still not implemented):"
   ]
  },
  {
   "cell_type": "code",
   "execution_count": null,
   "metadata": {},
   "outputs": [],
   "source": [
    "if param.findBool('comovingCoordinates') :\n",
    "  coordinates = cbl.CoordinateType__comoving_\n",
    "else :\n",
    "  coordinates = cbl.CoordinateType__observed_"
   ]
  },
  {
   "cell_type": "markdown",
   "metadata": {},
   "source": [
    "The code creates a cosmological model using the parameters defined in the parameter file (this will be employed to compute the growth factor later):"
   ]
  },
  {
   "cell_type": "code",
   "execution_count": null,
   "metadata": {},
   "outputs": [],
   "source": [
    "cosm = cbl.Cosmology(param.findDouble('OmM'),\n",
    "                     param.findDouble('Omb'),\n",
    "                     param.findDouble('Omn'),\n",
    "                     param.findDouble('massless'),\n",
    "                     param.findInt('massive'),\n",
    "                     param.findDouble('OmL'),\n",
    "                     param.findDouble('Omr'),\n",
    "                     param.findDouble('hh'),\n",
    "                     param.findDouble('As'),\n",
    "                     param.findDouble('pivot'),\n",
    "                     param.findDouble('ns'),\n",
    "                     param.findDouble('w0'),\n",
    "                     param.findDouble('wa'),\n",
    "                     param.findDouble('fNL'),\n",
    "                     param.findInt('type_NG'),\n",
    "                     param.findDouble('tau'),\n",
    "                     param.findString('model'),\n",
    "                     param.findBool('unit'))\n",
    "\n",
    "cosm.set_sigma8(param.findDouble('sigma8'))"
   ]
  },
  {
   "cell_type": "markdown",
   "metadata": {},
   "source": [
    "### Load the input void catalogue #\n",
    "Only the void centre coordinates shall be provided to load the input void catalogue, all the other necessary attributes will be computed by the code."
   ]
  },
  {
   "cell_type": "code",
   "execution_count": null,
   "metadata": {},
   "outputs": [],
   "source": [
    "cast = []\n",
    "clmn = []\n",
    "attrNames = ['X_coord', 'Y_coord', 'Z_coord', 'Radius', 'centralDensity', 'densityContrast']\n",
    "attrAv = [cbl.Var__X_, cbl.Var__Y_, cbl.Var__Z_, cbl.Var__Radius_, cbl.Var__CentralDensity_,\\\n",
    "          cbl.Var__DensityContrast_]\n",
    "for ii in range(len(attrNames)) :\n",
    "  if param.findBool(attrNames[ii]) :\n",
    "    cast.append(attrAv[ii])\n",
    "    clmn.append(param.findInt(attrNames[ii]+'_clmn'))\n",
    "clmn, cast = (list(x) for x in zip(*sorted(zip(clmn, cast))))\n",
    "\n",
    "attr = cbl.VarCast(cast)"
   ]
  },
  {
   "cell_type": "markdown",
   "metadata": {},
   "source": [
    "A new void catalogue is created, reading the input file and sorting the attributes according the selected order:"
   ]
  },
  {
   "cell_type": "code",
   "execution_count": null,
   "metadata": {},
   "outputs": [],
   "source": [
    "vdcat = cbl.Catalogue (cbl.ObjectType__Void_,\n",
    "                       coordinates,\n",
    "                       attr,\n",
    "                       clmn,\n",
    "                       [param.findString('inputVoidCatalogue')],\n",
    "                       param.findInt('vd_comments'))"
   ]
  },
  {
   "cell_type": "markdown",
   "metadata": {},
   "source": [
    "The main properties of the catalogue (volume, density and mean interparticle separation of the sample) are computed using the lenght of the side of the catalogue. For the current implementation, the catalogue has to be a box. If the boxside is not provided it will be computed using the maximum separaration between the tracers on the x-axis."
   ]
  },
  {
   "cell_type": "code",
   "execution_count": null,
   "metadata": {},
   "outputs": [],
   "source": [
    "if (param.findDouble('boxside') < 0.) :\n",
    "  boxside = abs(vdcat.Max(cbl.Var__X_) - vdcat.Min(cbl.Var__X_))\n",
    "else :\n",
    "  boxside = param.findDouble('boxside')\n",
    "vdcat.compute_catalogueProperties(param.findDouble('boxside'))"
   ]
  },
  {
   "cell_type": "markdown",
   "metadata": {},
   "source": [
    "### Load the input tracer catalogue #\n",
    "It can be a Gadget-2.0 or an ASCII file. With the parameters 'fact' and 'nSub' it is possible to convert the unit of the distance (e.g. fact = 0.001 for converting kpc/h to Mpc/h) and to sub-sample the object of the catalogue, respectively. <br>\n",
    "In the case of the ASCII catalogue reading, a mass factor and/or a mass cut-off can be applied to the tracer catalogue (obviously only if the tracer mass provided). The first one can be activated with the parameter 'Munit', that represents the mass units in units of solar masses. The cut-off is applied selecting a value $>0$ for the minimum mass of the catalogue, given by the parameter 'Mmin'. <br>\n",
    "In the end, the main properties of the catalogue are computed using (once again) the lenght of the boxside."
   ]
  },
  {
   "cell_type": "code",
   "execution_count": null,
   "metadata": {},
   "outputs": [],
   "source": [
    "if param.findBool('Gadget') :\n",
    "  if not param.findBool('comovingCoordinates') :\n",
    "    ErrorCBL('Observed coordinates not available for Gadget snapshot.')\n",
    "  else :\n",
    "    trcat = cbl.Catalogue (cbl.ObjectType__Halo_,\n",
    "                           param.findString('inputTracersFile'),\n",
    "                           param.findBool('swapEndianism'),\n",
    "                           param.findDouble('fact'),\n",
    "                           True,\n",
    "                           param.findDouble('nSub'))\n",
    "else :\n",
    "  if param.findBool('comovingCoordinates') :\n",
    "    \n",
    "    tr_cast = []\n",
    "    tr_clmn = []\n",
    "    trAttrNames = ['X_coord_tr', 'Y_coord_tr', 'Z_coord_tr', 'Mass']\n",
    "    trAttrAv = [cbl.Var__X_, cbl.Var__Y_, cbl.Var__Z_, cbl.Var__Mass_]\n",
    "    for ii in range(len(trAttrNames)) :\n",
    "      if param.findBool(trAttrNames[ii]) :\n",
    "        tr_cast.append(trAttrAv[ii])\n",
    "        tr_clmn.append(param.findInt(trAttrNames[ii]+'_clmn'))        \n",
    "    tr_clmn, tr_cast = (list(x) for x in zip(*sorted(zip(tr_clmn, tr_cast))))  # orders clmn and cast according to column order \n",
    "    tr_attr = cbl.VarCast(tr_cast)\n",
    "    \n",
    "    temp = cbl.Catalogue (cbl.ObjectType__Halo_,\n",
    "                          coordinates,\n",
    "                          tr_attr,\n",
    "                          tr_clmn,\n",
    "                          [param.findString('inputTracersFile')],\n",
    "                          param.findInt('tr_comments'),\n",
    "                          param.findDouble('nSub'),\n",
    "                          param.findDouble('fact'))\n",
    "\n",
    "    if not param.findBool('Mass') :\n",
    "      \n",
    "      trcat = temp\n",
    "      temp = None\n",
    "      print \"Finished reading input tracers catalogue.\"\n",
    "      \n",
    "    else :\n",
    "      \n",
    "      print \"Finished reading input tracers catalogue, now applying mass scale factor and/or cut-off ... \"\n",
    "\n",
    "      # scale factor\n",
    "      if (param.findDouble('Munit') > 0.) :\n",
    "        for ii in range(temp.nObjects()) :\n",
    "          mass = temp.mass(ii)*param.findDouble('Munit')\n",
    "          temp.set_var(ii, cbl.Var__Mass_, mass)\n",
    "\n",
    "      # mass cut-off\n",
    "      if (param.findDouble('Mmin') > 0.) :\n",
    "        trcat = cbl.Catalogue ()\n",
    "        trcat = temp.cutted_catalogue(cbl.Var__Mass_, param.findDouble('Mmin'), temp.Max(cbl.Var__Mass_), False)\n",
    "      else :\n",
    "        trcat = temp\n",
    "        temp = None\n",
    "\n",
    "      print \"\\t ... done!\"\n",
    "\n",
    "  # observed coordinates\n",
    "  else :\n",
    "    print \"Observed coordinates not supported yet...\"\n",
    "    exit(1)\n",
    "\n",
    "trcat.compute_catalogueProperties(param.findDouble('boxside'))\n"
   ]
  },
  {
   "cell_type": "markdown",
   "metadata": {},
   "source": [
    "A 3-dimensional chain-mesh for the input tracers catalogue is generated. The cell size of the chain-mesh is equal to 2 times the value of the mean interparticle separation of the tracer catalogue. The maximum radius of the chain-mesh is given by the maximum value of the radius of the voids in the catalogue."
   ]
  },
  {
   "cell_type": "code",
   "execution_count": null,
   "metadata": {},
   "outputs": [],
   "source": [
    "ChM = cbl.ChainMesh3D (2.*trcat.mps(),\n",
    "                       trcat.var(cbl.Var__X_),\n",
    "                       trcat.var(cbl.Var__Y_),\n",
    "                       trcat.var(cbl.Var__Z_),\n",
    "                       vdcat.Max(cbl.Var__Radius_))"
   ]
  },
  {
   "cell_type": "markdown",
   "metadata": {},
   "source": [
    "If the void radii are not read from the input void catalogue, they are temporarily set to the maximum value of the range of the accepting radii:"
   ]
  },
  {
   "cell_type": "code",
   "execution_count": null,
   "metadata": {},
   "outputs": [],
   "source": [
    "if not param.findBool('Radius') :\n",
    "  limit = param.findVectorDouble('delta_r')\n",
    "  radii = [delta_r[1] for ii in range(vdcat.nObjects())]\n",
    "  vdcat.set_var(cbl.Var__Radius_, radii)"
   ]
  },
  {
   "cell_type": "markdown",
   "metadata": {},
   "source": [
    "The central density and the density contrast are computed  when they are not read from the input void catalogue. <br> The central density (in units of the average density) is computed as the density of a sphere centred in the void centre and with radius $R = ratio \\cdot r_{eff}$, where $r_{eff}$ is the void effective radius and 'ratio' is a parameter $<1$ selected by the user. The density contrast is the ratio between the central density and the density within the sphere centred in the void centre and with radius $R = r_{eff}$. <br> With the function compute_densityContrast the effect of cloud-in-void is taken into account and void with central density $>$ density at $r_{eff}$ are rejected."
   ]
  },
  {
   "cell_type": "code",
   "execution_count": null,
   "metadata": {},
   "outputs": [],
   "source": [
    "if not param.findBool('centralDensity') : \n",
    "  vdcat.compute_centralDensity(trcat,\n",
    "                               ChM,\n",
    "                               trcat.numdensity(),\n",
    "                               param.findDouble('ratio'))\n",
    "\n",
    "if not param.findBool('densityContrast') :\n",
    "  vdcat.compute_densityContrast(trcat,\n",
    "                                ChM,\n",
    "                                param.findDouble('ratio'))"
   ]
  },
  {
   "cell_type": "markdown",
   "metadata": {},
   "source": [
    "The criterion for the overlap-check is read from the parameter file. In case of overlap: <br>\n",
    "1) if ol_crit = false $\\rightarrow$ the void with the higher central density is rejected, <br>\n",
    "2) if ol_crit = true $\\rightarrow$ the void with the lower density constrast is rejected."
   ]
  },
  {
   "cell_type": "code",
   "execution_count": null,
   "metadata": {},
   "outputs": [],
   "source": [
    "ol_crit = cbl.Var__DensityContrast_ if param.findInt('ol_crit') == 1 else cbl.Var__CentralDensity_"
   ]
  },
  {
   "cell_type": "markdown",
   "metadata": {},
   "source": [
    "The threshold is the value of the spherically averaged density contrast ($\\rho_m/\\overline{\\rho}+1$) that each void will contain after the rescaling procedure. In order to obtain the value of the threshold at redshifts $z>0$ it is necessary to rescale it using the growth factor, computed with cosm.DD(z). This procedure has to be performed using the quantities in linear regime. In the end the threshold is converted back in non-linear theory. "
   ]
  },
  {
   "cell_type": "code",
   "execution_count": null,
   "metadata": {},
   "outputs": [],
   "source": [
    "Z0 = 0.\n",
    "Z1 = param.findDouble('redshift')\n",
    "threshold_L = cosm.deltav_L(1.,param.findDouble('threshold'))*cosm.DD(Z1)/cosm.DD(Z0)\n",
    "threshold = 1. + cosm.deltav_NL(threshold_L)"
   ]
  },
  {
   "cell_type": "markdown",
   "metadata": {},
   "source": [
    "### Build the cleanded catalogue ##\n",
    "To build the final cleaned void catalogue, the user can select different procedure to perform using the following parameters: <br>\n",
    " - clean1 = true $\\rightarrow$ erase voids with underdensities higher than a given threshold<br>\n",
    " - clean2 = true $\\rightarrow$ erase voids with effective radii outside a given range  <br>\n",
    " - clean3 = true $\\rightarrow$ erase voids with density contrast lower than a value, giver by the parameter 'relevance' <br>\n",
    " - delta_r $\\rightarrow$ range of acceptable radii, voids with radii external to this range are erased <br>\n",
    " - rescale = true $\\rightarrow$ the rescaling procedure will be performed: firstly the algorithm checks if within an initial radius the enclosed density is higher or lower than the selected density threshold consequently it shrinks or expands the initial radius to match the required density threshold <br>\n",
    " - overlap = true $\\rightarrow$  overlapping voids are erased from the catalogue: when two voids do overlap one of them is erased according to the choice of overlap criterion."
   ]
  },
  {
   "cell_type": "code",
   "execution_count": null,
   "metadata": {},
   "outputs": [],
   "source": [
    "print '\\n'\n",
    "tw0 = time.time()\n",
    "tc0 = time.clock()\n",
    "vdcat_cleaned = cbl.Catalogue (vdcat,\n",
    "                               [param.findBool('clean1'),\n",
    "                                param.findBool('clean2'),\n",
    "                                param.findBool('clean3')],\n",
    "                               param.findVectorDouble('delta_r'),\n",
    "                               threshold,\n",
    "                               param.findDouble('relevance'),\n",
    "                               param.findBool('rescale'),\n",
    "                               trcat,\n",
    "                               ChM,\n",
    "                               param.findDouble('ratio'),\n",
    "                               param.findBool('overlap'),\n",
    "                               ol_crit)\n",
    "\n",
    "\n",
    "print 'Cleaning the catalogue took: ', time.clock()-tc0, ' sec'\n",
    "print 'Wall time: ', time.time()-tw0, ' sec'"
   ]
  },
  {
   "cell_type": "markdown",
   "metadata": {},
   "source": [
    "In the end, the cleaned catalogue is written in an ASCII file into a output directory (if it not exists, it will be created)."
   ]
  },
  {
   "cell_type": "code",
   "execution_count": null,
   "metadata": {},
   "outputs": [],
   "source": [
    "clmnsToPrint = cbl.VarCast(attrAv)\n",
    "\n",
    "if not os.path.exists(param.findString('outputDir')):\n",
    "    os.makedirs(param.findString('outputDir'))\n",
    "    \n",
    "print '\\n'\n",
    "\n",
    "vdcat_cleaned.write_data(param.findString('outputDir')+'/'+param.findString('outputFile'),\n",
    "                         clmnsToPrint)"
   ]
  }
 ],
 "metadata": {
  "kernelspec": {
   "display_name": "Python 2",
   "language": "python",
   "name": "python2"
  },
  "language_info": {
   "codemirror_mode": {
    "name": "ipython",
    "version": 2
   },
   "file_extension": ".py",
   "mimetype": "text/x-python",
   "name": "python",
   "nbconvert_exporter": "python",
   "pygments_lexer": "ipython2",
   "version": "2.7.6"
  }
 },
 "nbformat": 4,
 "nbformat_minor": 2
}
