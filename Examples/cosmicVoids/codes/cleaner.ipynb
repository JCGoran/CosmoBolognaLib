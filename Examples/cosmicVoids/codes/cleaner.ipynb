{
 "cells": [
  {
   "cell_type": "markdown",
   "metadata": {},
   "source": [
    "# Introduction"
   ]
  },
  {
   "cell_type": "markdown",
   "metadata": {},
   "source": [
    "This notebook explains how to clean cosmic void catalogues to extract cosmological constraints from void statistics. \n",
    "\n",
    "The only required inputs are the positions of the void centres and of the tracers used to detect the voids (and possibly their masses). \n",
    "\n",
    "With this notebook you will remove spurious voids, rescale their radii to a specific density threshold, and reject voids in case of overlaps."
   ]
  },
  {
   "cell_type": "markdown",
   "metadata": {},
   "source": [
    "# Set the inputs"
   ]
  },
  {
   "cell_type": "markdown",
   "metadata": {},
   "source": [
    "Import the CBL functions and system modules:"
   ]
  },
  {
   "cell_type": "code",
   "execution_count": 3,
   "metadata": {
    "scrolled": true
   },
   "outputs": [],
   "source": [
    "import CosmoBolognaLib as cbl                                 \n",
    "from CosmoBolognaLib import ErrorCBL\n",
    "\n",
    "import time\n",
    "import sys\n",
    "import os"
   ]
  },
  {
   "cell_type": "markdown",
   "metadata": {},
   "source": [
    "To show the standard output stream of the CBL functions (that are implemented in C++ and converted to python via SWIG) on notebook cells (instead of on terminal) the package wurlitzer has to be used (see https://github.com/minrk/wurlitzer)"
   ]
  },
  {
   "cell_type": "code",
   "execution_count": 4,
   "metadata": {},
   "outputs": [],
   "source": [
    "%load_ext wurlitzer"
   ]
  },
  {
   "cell_type": "markdown",
   "metadata": {},
   "source": [
    "The code reads the paramters from a file:"
   ]
  },
  {
   "cell_type": "code",
   "execution_count": 6,
   "metadata": {},
   "outputs": [
    {
     "name": "stdout",
     "output_type": "stream",
     "text": [
      "Loading parameters from ../input/parameters.ini\n"
     ]
    }
   ],
   "source": [
    "filename = \"../input/parameters.ini\"\n",
    "print \"Loading parameters from\", filename\n",
    "param = cbl.ReadParameters(filename)"
   ]
  },
  {
   "cell_type": "markdown",
   "metadata": {},
   "source": [
    "The coordinate type are selected (attention: observed coordinates are still not implemented!):"
   ]
  },
  {
   "cell_type": "code",
   "execution_count": 7,
   "metadata": {},
   "outputs": [],
   "source": [
    "if param.findBool('comovingCoordinates') :\n",
    "  coordinates = cbl.CoordinateType__comoving_\n",
    "else :\n",
    "  coordinates = cbl.CoordinateType__observed_"
   ]
  },
  {
   "cell_type": "markdown",
   "metadata": {},
   "source": [
    "A cosmological model is defined, using the cosmological parameters provided in the parameter file (this will be used to compute the growth factor)"
   ]
  },
  {
   "cell_type": "code",
   "execution_count": 8,
   "metadata": {},
   "outputs": [],
   "source": [
    "cosm = cbl.Cosmology(param.findDouble('OmM'),\n",
    "                     param.findDouble('Omb'),\n",
    "                     param.findDouble('Omn'),\n",
    "                     param.findDouble('massless'),\n",
    "                     param.findInt('massive'),\n",
    "                     param.findDouble('OmL'),\n",
    "                     param.findDouble('Omr'),\n",
    "                     param.findDouble('hh'),\n",
    "                     param.findDouble('As'),\n",
    "                     param.findDouble('pivot'),\n",
    "                     param.findDouble('ns'),\n",
    "                     param.findDouble('w0'),\n",
    "                     param.findDouble('wa'),\n",
    "                     param.findDouble('fNL'),\n",
    "                     param.findInt('type_NG'),\n",
    "                     param.findDouble('tau'),\n",
    "                     param.findString('model'),\n",
    "                     param.findBool('unit'))\n",
    "\n",
    "cosm.set_sigma8(param.findDouble('sigma8'))"
   ]
  },
  {
   "cell_type": "markdown",
   "metadata": {},
   "source": [
    "# Load the input void catalogue\n",
    "Only the void centre coordinates have to be provided to construct the input void catalogue, while all the other necessary attributes will be computed automatically"
   ]
  },
  {
   "cell_type": "code",
   "execution_count": 9,
   "metadata": {},
   "outputs": [],
   "source": [
    "cast = []\n",
    "clmn = []\n",
    "attrNames = ['X_coord', 'Y_coord', 'Z_coord', 'Radius', 'centralDensity', 'densityContrast']\n",
    "attrAv = [cbl.Var__X_, cbl.Var__Y_, cbl.Var__Z_, cbl.Var__Radius_, cbl.Var__CentralDensity_,\\\n",
    "          cbl.Var__DensityContrast_]\n",
    "for ii in range(len(attrNames)) :\n",
    "  if param.findBool(attrNames[ii]) :\n",
    "    cast.append(attrAv[ii])\n",
    "    clmn.append(param.findInt(attrNames[ii]+'_clmn'))\n",
    "clmn, cast = (list(x) for x in zip(*sorted(zip(clmn, cast))))\n",
    "\n",
    "attr = cbl.VarCast(cast)"
   ]
  },
  {
   "cell_type": "markdown",
   "metadata": {},
   "source": [
    "A new void catalogue is created, reading the input file and sorting the attributes according the selected order:"
   ]
  },
  {
   "cell_type": "code",
   "execution_count": 10,
   "metadata": {},
   "outputs": [
    {
     "name": "stdout",
     "output_type": "stream",
     "text": [
      "\u001b[0;34mCBL > \u001b[0mI'm reading the catalogue: ../input/vide_void_catalogue.txt\n"
     ]
    }
   ],
   "source": [
    "vdcat = cbl.Catalogue(cbl.ObjectType__Void_,\n",
    "                       coordinates,\n",
    "                       attr,\n",
    "                       clmn,\n",
    "                       [param.findString('inputVoidCatalogue')],\n",
    "                       param.findInt('vd_comments'))"
   ]
  },
  {
   "cell_type": "markdown",
   "metadata": {},
   "source": [
    "The main properties of the catalogue (volume, density and mean interparticle separation of the sample) are computed using the lenght of the catalogue side. For the current implementation, the catalogue geometry has to be a box. If the boxside is not provided, it will be computed using the maximum separaration between the tracers on the x-axis."
   ]
  },
  {
   "cell_type": "code",
   "execution_count": 11,
   "metadata": {},
   "outputs": [
    {
     "name": "stdout",
     "output_type": "stream",
     "text": [
      "\u001b[0;34mCBL > \u001b[0mSample volume = 1e+06 (Mpc/h)^3\n",
      "\u001b[0;34mCBL > \u001b[0mSample density = 0.000221 (Mpc/h)^-3\n",
      "\u001b[0;34mCBL > \u001b[0mSample mps = 16.54 Mpc/h\n"
     ]
    }
   ],
   "source": [
    "if (param.findDouble('boxside') < 0.) :\n",
    "  boxside = abs(vdcat.Max(cbl.Var__X_) - vdcat.Min(cbl.Var__X_))\n",
    "else :\n",
    "  boxside = param.findDouble('boxside')\n",
    "vdcat.compute_catalogueProperties(param.findDouble('boxside'))"
   ]
  },
  {
   "cell_type": "markdown",
   "metadata": {},
   "source": [
    "# Load the input tracer catalogue\n",
    "\n",
    "The tracer catalogue can be either a Gadget-2.0 or an ASCII file. Using the parameters 'fact' and 'nSub', it is possible to convert the distance units (e.g. fact = 0.001 for converting kpc/h to Mpc/h) and to sub-sample the objects of the catalogue, respectively. <br> Only for ASCII catalogues, a mass factor and/or a mass cut-off can be applied to the tracer catalogue (obviously only if the tracer mass is provided). The first one can be activated with the parameter 'Munit', that represents the mass units in units of solar masses. The cut-off is applied by selecting a value larger than $0$ for the minimum mass of the catalogue, given by the 'Mmin' parameter.\n",
    "In the end, the main properties of the catalogue are computed using (once again) the lenght of the boxside."
   ]
  },
  {
   "cell_type": "code",
   "execution_count": 16,
   "metadata": {},
   "outputs": [
    {
     "name": "stdout",
     "output_type": "stream",
     "text": [
      "Finished reading input tracers catalogue.\u001b[0;34mCBL > \u001b[0mI'm reading the catalogue: ../input/tracers_catalogue.txt\n",
      "\n",
      "\u001b[0;34mCBL > \u001b[0mSample volume = 1e+06 (Mpc/h)^3\n",
      "\u001b[0;34mCBL > \u001b[0mSample density = 0.041706 (Mpc/h)^-3\n",
      "\u001b[0;34mCBL > \u001b[0mSample mps = 2.88359 Mpc/h\n"
     ]
    }
   ],
   "source": [
    "if param.findBool('Gadget') :\n",
    "  if not param.findBool('comovingCoordinates') :\n",
    "    ErrorCBL('Observed coordinates not available for Gadget snapshot.')\n",
    "  else :\n",
    "    trcat = cbl.Catalogue (cbl.ObjectType__Halo_,\n",
    "                           param.findString('inputTracersFile'),\n",
    "                           param.findBool('swapEndianism'),\n",
    "                           param.findDouble('fact'),\n",
    "                           True,\n",
    "                           param.findDouble('nSub'))\n",
    "else :\n",
    "  if param.findBool('comovingCoordinates') :\n",
    "    tr_cast = []\n",
    "    tr_clmn = []\n",
    "    trAttrNames = ['X_coord_tr', 'Y_coord_tr', 'Z_coord_tr', 'Mass']\n",
    "    trAttrAv = [cbl.Var__X_, cbl.Var__Y_, cbl.Var__Z_, cbl.Var__Mass_]\n",
    "    for ii in range(len(trAttrNames)) :\n",
    "      if param.findBool(trAttrNames[ii]) :\n",
    "        tr_cast.append(trAttrAv[ii])\n",
    "        tr_clmn.append(param.findInt(trAttrNames[ii]+'_clmn'))        \n",
    "    tr_clmn, tr_cast = (list(x) for x in zip(*sorted(zip(tr_clmn, tr_cast))))  # orders clmn and cast according to column order \n",
    "    tr_attr = cbl.VarCast(tr_cast)\n",
    "    \n",
    "    temp = cbl.Catalogue (cbl.ObjectType__Halo_,\n",
    "                          coordinates,\n",
    "                          tr_attr,\n",
    "                          tr_clmn,\n",
    "                          [param.findString('inputTracersFile')],\n",
    "                          param.findInt('tr_comments'),\n",
    "                          param.findDouble('nSub'),\n",
    "                          param.findDouble('fact'))\n",
    "\n",
    "    if not param.findBool('Mass') :\n",
    "      \n",
    "      trcat = temp\n",
    "      temp = None\n",
    "      print \"Finished reading input tracers catalogue.\"\n",
    "      \n",
    "    else :\n",
    "      \n",
    "      print \"Finished reading input tracers catalogue, now applying mass scale factor and/or cut-off ... \"\n",
    "\n",
    "      # scale factor\n",
    "      if (param.findDouble('Munit') > 0.) :\n",
    "        for ii in range(temp.nObjects()) :\n",
    "          mass = temp.mass(ii)*param.findDouble('Munit')\n",
    "          temp.set_var(ii, cbl.Var__Mass_, mass)\n",
    "\n",
    "      # mass cut-off\n",
    "      if (param.findDouble('Mmin') > 0.) :\n",
    "        trcat = cbl.Catalogue ()\n",
    "        trcat = temp.sub_catalogue(cbl.Var__Mass_, param.findDouble('Mmin'), temp.Max(cbl.Var__Mass_), False)\n",
    "      else :\n",
    "        trcat = temp\n",
    "        temp = None\n",
    "\n",
    "      print \"\\t ... done!\"\n",
    "\n",
    "  # observed coordinates\n",
    "  else :\n",
    "    print \"Observed coordinates not supported yet...\"\n",
    "    exit(1)\n",
    "\n",
    "trcat.compute_catalogueProperties(param.findDouble('boxside'))"
   ]
  },
  {
   "cell_type": "markdown",
   "metadata": {},
   "source": [
    "A 3-dimensional chain-mesh for the input tracer catalogue is generated. The cell size of the chain-mesh is equal to 2 times the value of the mean interparticle separation of the tracer catalogue. The maximum radius of the chain-mesh is given by the maximum value of the radius of the voids in the catalogue."
   ]
  },
  {
   "cell_type": "code",
   "execution_count": 17,
   "metadata": {},
   "outputs": [],
   "source": [
    "ChM = cbl.ChainMesh3D (2.*trcat.mps(),\n",
    "                       trcat.var(cbl.Var__X_),\n",
    "                       trcat.var(cbl.Var__Y_),\n",
    "                       trcat.var(cbl.Var__Z_),\n",
    "                       vdcat.Max(cbl.Var__Radius_))"
   ]
  },
  {
   "cell_type": "markdown",
   "metadata": {},
   "source": [
    "If the void radii are not read from the input void catalogue, they are temporarily set to the maximum value of the range of the accepted radii:"
   ]
  },
  {
   "cell_type": "code",
   "execution_count": 18,
   "metadata": {},
   "outputs": [],
   "source": [
    "if not param.findBool('Radius') :\n",
    "  limit = param.findVectorDouble('delta_r')\n",
    "  radii = [delta_r[1] for ii in range(vdcat.nObjects())]\n",
    "  vdcat.set_var(cbl.Var__Radius_, radii)"
   ]
  },
  {
   "cell_type": "markdown",
   "metadata": {},
   "source": [
    "The central density and the density contrast are computed if they are not read from the input void catalogue. <br> The central density (in units of the average density) is computed as the density of a sphere centred in the void centre and with radius $R = ratio \\cdot r_{eff}$, where $r_{eff}$ is the void effective radius and $ratio$ is a parameter $<1$ selected by the user. The density contrast is the ratio between the central density and the density within the sphere centred in the void centre and with radius $R = r_{eff}$. <br> With the compute_densityContrast function, the effect of cloud-in-void is taken into account and the voids with central density larger than the density at $r_{eff}$ are rejected."
   ]
  },
  {
   "cell_type": "code",
   "execution_count": 19,
   "metadata": {},
   "outputs": [
    {
     "name": "stdout",
     "output_type": "stream",
     "text": [
      "\u001b[0;34mCBL > \u001b[0mI removed 0 voids in calculating the central density!\n",
      "\u001b[0;34mCBL > \u001b[0mCloud-in-void: 1\n",
      "\u001b[0;34mCBL > \u001b[0mI removed 1 voids in calculating the density contrast!\n"
     ]
    }
   ],
   "source": [
    "if not param.findBool('centralDensity') : \n",
    "  vdcat.compute_centralDensity(trcat,\n",
    "                               ChM,\n",
    "                               trcat.numdensity(),\n",
    "                               param.findDouble('ratio'))\n",
    "\n",
    "if not param.findBool('densityContrast') :\n",
    "  vdcat.compute_densityContrast(trcat,\n",
    "                                ChM,\n",
    "                                param.findDouble('ratio'))"
   ]
  },
  {
   "cell_type": "markdown",
   "metadata": {},
   "source": [
    "The criterion for the overlap-check is read from the parameter file. In case of overlap: <br>\n",
    "1) if ol_crit = false $\\rightarrow$ the void with the higher central density is rejected, <br>\n",
    "2) if ol_crit = true $\\rightarrow$ the void with the lower density constrast is rejected."
   ]
  },
  {
   "cell_type": "code",
   "execution_count": 20,
   "metadata": {},
   "outputs": [],
   "source": [
    "ol_crit = cbl.Var__DensityContrast_ if param.findInt('ol_crit') == 1 else cbl.Var__CentralDensity_"
   ]
  },
  {
   "cell_type": "markdown",
   "metadata": {},
   "source": [
    "The threshold is the value of the spherically-averaged density contrast ($\\rho_m/\\,\\overline{\\rho}+1$) that each void will contain after the rescaling procedure. In order to obtain the value of the threshold at redshifts $z>0$, it is necessary to rescale it using the growth factor, computed with cosm.DD(z). This procedure has to be performed using the quantities in linear regime. In the end the threshold is converted back in the non-linear regime. "
   ]
  },
  {
   "cell_type": "code",
   "execution_count": 21,
   "metadata": {},
   "outputs": [],
   "source": [
    "Z0 = 0.\n",
    "Z1 = param.findDouble('redshift')\n",
    "threshold_L = cosm.deltav_L(1.,param.findDouble('threshold'))*cosm.DD(Z1)/cosm.DD(Z0)\n",
    "threshold = 1. + cosm.deltav_NL(threshold_L)"
   ]
  },
  {
   "cell_type": "markdown",
   "metadata": {},
   "source": [
    "# Costruct the cleanded catalogue\n",
    "To build the final cleaned void catalogue, the user can select different procedures to perform using the following parameters: <br>\n",
    " - clean1 = true $\\rightarrow$ erase voids with underdensities higher than a given threshold<br>\n",
    " - clean2 = true $\\rightarrow$ erase voids with effective radii outside a given range  <br>\n",
    " - clean3 = true $\\rightarrow$ erase voids with density contrast lower than a given value, specified by the 'relevance' parameter <br>\n",
    " - delta_r $\\rightarrow$ range of acceptable radii, voids with radii outside this range are erased <br>\n",
    " - rescale = true $\\rightarrow$ the rescaling procedure will be performed: firstly the algorithm checks if within an initial radius the enclosed density is higher or lower than the selected density threshold; then it shrinks or expands the initial radius to match the required density threshold <br>\n",
    " - overlap = true $\\rightarrow$  overlapping voids are erased from the catalogue: when two voids do overlap one of them is erased according to the chosen overlap criterion."
   ]
  },
  {
   "cell_type": "code",
   "execution_count": 23,
   "metadata": {},
   "outputs": [
    {
     "name": "stdout",
     "output_type": "stream",
     "text": [
      "\n",
      "\n",
      "Cleaning the catalogue took:  0.431077  sec\n",
      "Wall time:  0.431853055954  sec\n",
      "\u001b[0;34mCBL > \u001b[0mInput void catalogue cleaning procedure started ...\n",
      "\u001b[0;34mCBL > \u001b[0m############ Removed Voids ###########\n",
      "\t r_min - r_max criterion : 0\n",
      "\t central density too high: 0\n",
      "\t statistically irrelevant: 0\n",
      "\t total removed: 0\n",
      "\u001b[0;34mCBL > \u001b[0m\n",
      " Voids in the Catalogue: 130\n",
      "\u001b[0;34mCBL > \u001b[0mTime spent by the cleaning procedure: 6.9e-05 seconds \n",
      "\n",
      "\u001b[0;34mCBL > \u001b[0mRescaling radii ... \n",
      "\u001b[0;34mCBL > \u001b[0mSample volume = 999851 (Mpc/h)^3\n",
      "\u001b[0;34mCBL > \u001b[0mSample density = 0.0417122 (Mpc/h)^-3\n",
      "\u001b[0;34mCBL > \u001b[0mSample mps = 2.88345 Mpc/h\n",
      "\u001b[0;34mCBL > \u001b[0m\t Empty voids removed: 0\n",
      "\u001b[0;34mCBL > \u001b[0m\t Negative voids removed: 2\n",
      "\n",
      "\u001b[0;34mCBL > \u001b[0m\t Removed voids out of range [0.50,50.00] : 17\n",
      "\u001b[0;34mCBL > \u001b[0mI removed 6 voids in calculating the central density!\n",
      "\u001b[0;34mCBL > \u001b[0mCloud-in-void: 0\n",
      "\u001b[0;34mCBL > \u001b[0mI removed 5 voids in calculating the density contrast!\n",
      "\u001b[0;34mCBL > \u001b[0m\n",
      " Voids in the Catalogue: 100\n",
      "\u001b[0;34mCBL > \u001b[0mTime spent by the rescaling procedure: 0.146309 seconds \n",
      "\n",
      "\u001b[0;34mCBL > \u001b[0mChecking for overlapping voids ...\n",
      "\u001b[0;34mCBL > \u001b[0mI'm sorting the catalogue...\n",
      "\u001b[0;34mCBL > \u001b[0m\t Generating chain-mesh for void centres ...\n",
      "\u001b[0;34mCBL > \u001b[0m\t Voids removed to avoid overlap: 2\n",
      "\u001b[0;34mCBL > \u001b[0m\n",
      " Voids in the Catalogue: 98\n",
      "\u001b[0;34mCBL > \u001b[0mTime spent by the overlap-checking procedure: 0.283612 seconds\n",
      "\u001b[0;34mCBL > \u001b[0m\n",
      " Total time spent: 0.430011 seconds \n",
      "\n"
     ]
    }
   ],
   "source": [
    "print '\\n'\n",
    "tw0 = time.time()\n",
    "tc0 = time.clock()\n",
    "vdcat_cleaned = cbl.Catalogue (vdcat,\n",
    "                               [param.findBool('clean1'),\n",
    "                                param.findBool('clean2'),\n",
    "                                param.findBool('clean3')],\n",
    "                               param.findVectorDouble('delta_r'),\n",
    "                               threshold,\n",
    "                               param.findDouble('relevance'),\n",
    "                               param.findBool('rescale'),\n",
    "                               trcat,\n",
    "                               ChM,\n",
    "                               param.findDouble('ratio'),\n",
    "                               param.findBool('overlap'),\n",
    "                               ol_crit)\n",
    "\n",
    "\n",
    "print 'Cleaning the catalogue took: ', time.clock()-tc0, ' sec'\n",
    "print 'Wall time: ', time.time()-tw0, ' sec'"
   ]
  },
  {
   "cell_type": "markdown",
   "metadata": {},
   "source": [
    "In the end, the cleaned catalogue is stored in an ASCII file (if the output directory does not exists, it will be created)."
   ]
  },
  {
   "cell_type": "code",
   "execution_count": 24,
   "metadata": {},
   "outputs": [
    {
     "name": "stdout",
     "output_type": "stream",
     "text": [
      "\n",
      "\n",
      "\u001b[0;34mCBL > \u001b[0mI'm writing the file: ../output/void_catalogue_cleaned.out...\n",
      "\u001b[0;34mCBL > \u001b[0mI wrote the file: ../output/void_catalogue_cleaned.out\n"
     ]
    }
   ],
   "source": [
    "clmnsToPrint = cbl.VarCast(attrAv)\n",
    "\n",
    "if not os.path.exists(param.findString('outputDir')):\n",
    "    os.makedirs(param.findString('outputDir'))\n",
    "    \n",
    "print '\\n'\n",
    "\n",
    "vdcat_cleaned.write_data(param.findString('outputDir')+'/'+param.findString('outputFile'),\n",
    "                         clmnsToPrint)"
   ]
  }
 ],
 "metadata": {
  "hide_input": false,
  "kernelspec": {
   "display_name": "Python 2",
   "language": "python",
   "name": "python2"
  },
  "language_info": {
   "codemirror_mode": {
    "name": "ipython",
    "version": 2
   },
   "file_extension": ".py",
   "mimetype": "text/x-python",
   "name": "python",
   "nbconvert_exporter": "python",
   "pygments_lexer": "ipython2",
   "version": "2.7.15rc1"
  },
  "latex_envs": {
   "LaTeX_envs_menu_present": true,
   "autoclose": false,
   "autocomplete": true,
   "bibliofile": "biblio.bib",
   "cite_by": "apalike",
   "current_citInitial": 1,
   "eqLabelWithNumbers": true,
   "eqNumInitial": 1,
   "hotkeys": {
    "equation": "Ctrl-E",
    "itemize": "Ctrl-I"
   },
   "labels_anchors": false,
   "latex_user_defs": false,
   "report_style_numbering": false,
   "user_envs_cfg": false
  },
  "toc": {
   "base_numbering": 1,
   "nav_menu": {},
   "number_sections": true,
   "sideBar": true,
   "skip_h1_title": false,
   "title_cell": "Table of Contents",
   "title_sidebar": "Contents",
   "toc_cell": false,
   "toc_position": {},
   "toc_section_display": true,
   "toc_window_display": false
  }
 },
 "nbformat": 4,
 "nbformat_minor": 2
}
