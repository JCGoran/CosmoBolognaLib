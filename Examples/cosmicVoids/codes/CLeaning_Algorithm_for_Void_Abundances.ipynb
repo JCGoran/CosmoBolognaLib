{
 "cells": [
  {
   "cell_type": "markdown",
   "metadata": {},
   "source": [
    "# Introduction"
   ]
  },
  {
   "cell_type": "markdown",
   "metadata": {},
   "source": [
    "This notebook explains how to clean cosmic void catalogues to extract cosmological constraints from void statistics. \n",
    "\n",
    "The only required inputs are the positions of the void centres and of the tracers used to detect the voids (and possibly their masses). \n",
    "\n",
    "With this notebook you will remove spurious voids, rescale their radii to a specific density threshold, and reject voids in case of overlaps. Then you will measure the void size function and compare it to theoretical predictions. The latter are computed with a re-parametrisation of the volume-conserving model (Vdn), that takes into account the effect of the tracer bias (see Ronconi et al. 2019, Contarini et al. 2019)."
   ]
  },
  {
   "cell_type": "markdown",
   "metadata": {},
   "source": [
    "# Set the inputs"
   ]
  },
  {
   "cell_type": "markdown",
   "metadata": {},
   "source": [
    "To ensure compatibility in Python versions 2.x and 3.x"
   ]
  },
  {
   "cell_type": "code",
   "execution_count": 622,
   "metadata": {},
   "outputs": [],
   "source": [
    "from __future__ import print_function"
   ]
  },
  {
   "cell_type": "markdown",
   "metadata": {},
   "source": [
    "Import the CBL functions and system modules:"
   ]
  },
  {
   "cell_type": "code",
   "execution_count": 623,
   "metadata": {
    "scrolled": false
   },
   "outputs": [],
   "source": [
    "import CosmoBolognaLib as cbl                                 \n",
    "from CosmoBolognaLib import ErrorCBL\n",
    "\n",
    "import time\n",
    "import sys\n",
    "import os"
   ]
  },
  {
   "cell_type": "markdown",
   "metadata": {},
   "source": [
    "To show the standard output stream of the CBL functions (that are implemented in C++ and converted to python via SWIG) on notebook cells (instead of on terminal) the package wurlitzer has to be used (see https://github.com/minrk/wurlitzer)"
   ]
  },
  {
   "cell_type": "code",
   "execution_count": 624,
   "metadata": {},
   "outputs": [
    {
     "name": "stdout",
     "output_type": "stream",
     "text": [
      "The wurlitzer extension is already loaded. To reload it, use:\n",
      "  %reload_ext wurlitzer\n"
     ]
    }
   ],
   "source": [
    "%load_ext wurlitzer"
   ]
  },
  {
   "cell_type": "markdown",
   "metadata": {},
   "source": [
    "The paramters are read from the parameter file:"
   ]
  },
  {
   "cell_type": "code",
   "execution_count": 625,
   "metadata": {},
   "outputs": [
    {
     "name": "stdout",
     "output_type": "stream",
     "text": [
      "Loading parameters from ../input/parameter_file.ini\n"
     ]
    }
   ],
   "source": [
    "filename = \"../input/parameter_file.ini\"\n",
    "print (\"Loading parameters from\", filename)\n",
    "param = cbl.ReadParameters(filename)"
   ]
  },
  {
   "cell_type": "markdown",
   "metadata": {},
   "source": [
    "The coordinate type is selected (warning: observed coordinates are still not implemented!):"
   ]
  },
  {
   "cell_type": "code",
   "execution_count": 626,
   "metadata": {},
   "outputs": [],
   "source": [
    "if param.findBool('comovingCoordinates') :\n",
    "    coordinates = cbl.CoordinateType__comoving_\n",
    "else :\n",
    "    coordinates = cbl.CoordinateType__observed_"
   ]
  },
  {
   "cell_type": "markdown",
   "metadata": {},
   "source": [
    "# Load the input void catalogue\n",
    "Only the void centre coordinates have to be provided to construct the input void catalogue, while all the other necessary attributes will be computed automatically"
   ]
  },
  {
   "cell_type": "code",
   "execution_count": 627,
   "metadata": {},
   "outputs": [],
   "source": [
    "cast = []\n",
    "clmn = []\n",
    "attrNames = ['X_coord', 'Y_coord', 'Z_coord', 'Radius', 'centralDensity', 'densityContrast']\n",
    "attrAv = [cbl.Var__X_, cbl.Var__Y_, cbl.Var__Z_, cbl.Var__Radius_, cbl.Var__CentralDensity_,\\\n",
    "          cbl.Var__DensityContrast_]\n",
    "for ii in range(len(attrNames)) :\n",
    "    if param.findBool(attrNames[ii]) :\n",
    "        cast.append(attrAv[ii])\n",
    "        clmn.append(param.findInt(attrNames[ii]+'_clmn'))\n",
    "clmn, cast = (list(x) for x in zip(*sorted(zip(clmn, cast))))\n",
    "\n",
    "attr = cbl.VarCast(cast)"
   ]
  },
  {
   "cell_type": "markdown",
   "metadata": {},
   "source": [
    "A new void catalogue is created, reading the input file and sorting the attributes according the selected order:"
   ]
  },
  {
   "cell_type": "code",
   "execution_count": 628,
   "metadata": {},
   "outputs": [
    {
     "name": "stdout",
     "output_type": "stream",
     "text": [
      "\u001b[0;34mCBL > \u001b[0mI'm reading the catalogue: ../input/void_catalogue.txt\n"
     ]
    }
   ],
   "source": [
    "vdcat = cbl.Catalogue(cbl.ObjectType__Void_,\n",
    "                       coordinates,\n",
    "                       attr,\n",
    "                       clmn,\n",
    "                       [param.findString('inputVoidCatalogue')],\n",
    "                       param.findInt('vd_comments'))"
   ]
  },
  {
   "cell_type": "markdown",
   "metadata": {},
   "source": [
    "The main properties of the catalogue (volume, density and mean interparticle separation of the sample) are computed using the lenght of the catalogue side. For the current implementation, the catalogue geometry has to be a box. If the boxside is not provided, it will be computed using the maximum separaration between the tracers on the x-axis."
   ]
  },
  {
   "cell_type": "code",
   "execution_count": 629,
   "metadata": {},
   "outputs": [
    {
     "name": "stdout",
     "output_type": "stream",
     "text": [
      "\u001b[0;34mCBL > \u001b[0mSample volume = 1.25e+08 (Mpc/h)^3\n",
      "\u001b[0;34mCBL > \u001b[0mSample density = 9.904e-06 (Mpc/h)^-3\n",
      "\u001b[0;34mCBL > \u001b[0mSample mps = 46.5654 Mpc/h\n"
     ]
    }
   ],
   "source": [
    "if (param.findDouble('boxside') < 0.) :\n",
    "    boxside = abs(vdcat.Max(cbl.Var__X_) - vdcat.Min(cbl.Var__X_))\n",
    "else :\n",
    "    boxside = param.findDouble('boxside')\n",
    "vdcat.compute_catalogueProperties(param.findDouble('boxside'))"
   ]
  },
  {
   "cell_type": "markdown",
   "metadata": {},
   "source": [
    "# Load the input tracer catalogue\n",
    "\n",
    "The tracer catalogue can be either a Gadget-2.0 or an ASCII file. Using the parameters 'fact' and 'nSub', it is possible to convert the distance units (e.g. fact = 0.001 for converting kpc/h to Mpc/h) and to sub-sample the objects of the catalogue, respectively. <br> Only for ASCII catalogues, a mass factor and/or a mass cut-off can be applied to the tracer catalogue (obviously only if the tracer mass is provided). The first one can be activated with the parameter 'Munit', that represents the mass units in units of solar masses. The cut-off is applied by selecting a value larger than $0$ for the minimum mass of the catalogue, given by the 'Mmin' parameter.\n",
    "In the end, the main properties of the catalogue are computed using (once again) the lenght of the boxside."
   ]
  },
  {
   "cell_type": "code",
   "execution_count": 630,
   "metadata": {},
   "outputs": [
    {
     "name": "stdout",
     "output_type": "stream",
     "text": [
      "Finished reading input tracers catalogue.\u001b[0;34mCBL > \u001b[0mI'm reading the catalogue: ../input/halo_catalogue.txt\n",
      "\n",
      "\t ... done!\n",
      "\u001b[0;34mCBL > \u001b[0mSample volume = 1.25e+08 (Mpc/h)^3\n",
      "\u001b[0;34mCBL > \u001b[0mSample density = 0.0015764 (Mpc/h)^-3\n",
      "\u001b[0;34mCBL > \u001b[0mSample mps = 8.59233 Mpc/h\n"
     ]
    }
   ],
   "source": [
    "if param.findBool('Gadget') :\n",
    "    if not param.findBool('comovingCoordinates') :\n",
    "        ErrorCBL('Observed coordinates not available for Gadget snapshot.')\n",
    "    else :\n",
    "        trcat = cbl.Catalogue (cbl.ObjectType__Halo_,\n",
    "                           param.findString('inputTracersFile'),\n",
    "                           param.findBool('swapEndianism'),\n",
    "                           param.findDouble('fact'),\n",
    "                           True,\n",
    "                           param.findDouble('nSub'))\n",
    "else :\n",
    "    if param.findBool('comovingCoordinates') :\n",
    "        tr_cast = []\n",
    "        tr_clmn = []\n",
    "        trAttrNames = ['X_coord_tr', 'Y_coord_tr', 'Z_coord_tr', 'Mass']\n",
    "        trAttrAv = [cbl.Var__X_, cbl.Var__Y_, cbl.Var__Z_, cbl.Var__Mass_]\n",
    "        for ii in range(len(trAttrNames)) :\n",
    "            if param.findBool(trAttrNames[ii]) :\n",
    "                tr_cast.append(trAttrAv[ii])\n",
    "                tr_clmn.append(param.findInt(trAttrNames[ii]+'_clmn'))        \n",
    "        tr_clmn, tr_cast = (list(x) for x in zip(*sorted(zip(tr_clmn, tr_cast))))  # orders clmn and cast according to column order \n",
    "        tr_attr = cbl.VarCast(tr_cast)\n",
    "\n",
    "        temp = cbl.Catalogue (cbl.ObjectType__Halo_,\n",
    "                              coordinates,\n",
    "                              tr_attr,\n",
    "                              tr_clmn,\n",
    "                              [param.findString('inputTracersFile')],\n",
    "                              param.findInt('tr_comments'),\n",
    "                              param.findDouble('nSub'),\n",
    "                              param.findDouble('fact'))\n",
    "\n",
    "        if not param.findBool('Mass') :\n",
    "            trcat = temp\n",
    "            temp = None\n",
    "            print (\"Finished reading input tracers catalogue.\")\n",
    "\n",
    "        else :\n",
    "            print (\"Finished reading input tracers catalogue, now applying mass scale factor and/or cut-off ... \")\n",
    "\n",
    "            # scale factor\n",
    "            if (param.findDouble('Munit') > 0.) :\n",
    "                for ii in range(temp.nObjects()) :\n",
    "                    mass = temp.mass(ii)*param.findDouble('Munit')\n",
    "                    temp.set_var(ii, cbl.Var__Mass_, mass)\n",
    "\n",
    "            # mass cut-off\n",
    "            if (param.findDouble('Mmin') > 0.) :\n",
    "                trcat = cbl.Catalogue()\n",
    "                trcat = temp.sub_catalogue(cbl.Var__Mass_, param.findDouble('Mmin'), temp.Max(cbl.Var__Mass_), False)\n",
    "            else :\n",
    "                trcat = temp\n",
    "                temp = None\n",
    "\n",
    "        print (\"\\t ... done!\")\n",
    "\n",
    "  # observed coordinates\n",
    "    else :\n",
    "        print (\"Observed coordinates not supported with this configuration...\")\n",
    "        exit(1)\n",
    "\n",
    "trcat.compute_catalogueProperties(param.findDouble('boxside'))"
   ]
  },
  {
   "cell_type": "markdown",
   "metadata": {},
   "source": [
    "If the void radii are not read from the input void catalogue, they are temporarily set to the maximum value of the range of the accepted radii:"
   ]
  },
  {
   "cell_type": "code",
   "execution_count": 631,
   "metadata": {},
   "outputs": [],
   "source": [
    "if not param.findBool('Radius') :\n",
    "    delta_r = param.findVectorDouble('delta_r')\n",
    "    radii = [delta_r[1] for ii in range(vdcat.nObjects())]\n",
    "    vdcat.set_var(cbl.Var__Radius_, radii)"
   ]
  },
  {
   "cell_type": "markdown",
   "metadata": {},
   "source": [
    "A 3-dimensional chain-mesh for the input tracer catalogue is generated. The cell size of the chain-mesh is equal to 2 times the value of the mean interparticle separation of the tracer catalogue. The maximum radius of the chain-mesh is given by the maximum value of the radius of the voids in the catalogue."
   ]
  },
  {
   "cell_type": "code",
   "execution_count": 632,
   "metadata": {},
   "outputs": [],
   "source": [
    "ChM = cbl.ChainMesh3D (2.*trcat.mps(),\n",
    "                       trcat.var(cbl.Var__X_),\n",
    "                       trcat.var(cbl.Var__Y_),\n",
    "                       trcat.var(cbl.Var__Z_),\n",
    "                       vdcat.Max(cbl.Var__Radius_))"
   ]
  },
  {
   "cell_type": "markdown",
   "metadata": {},
   "source": [
    "The central density and the density contrast are computed if they are not read from the input void catalogue. <br> The central density (in units of the average density) is computed as the density of a sphere centred in the void centre and with radius $R = ratio \\cdot r_{eff}$, where $r_{eff}$ is the void effective radius and $ratio$ is a parameter $<1$ selected by the user. The density contrast is the ratio between the central density and the density within the sphere centred in the void centre and with radius $R = r_{eff}$. <br> With the compute_densityContrast function, the effect of cloud-in-void is taken into account and the voids with central density larger than the density at $r_{eff}$ are rejected."
   ]
  },
  {
   "cell_type": "code",
   "execution_count": 633,
   "metadata": {},
   "outputs": [
    {
     "name": "stdout",
     "output_type": "stream",
     "text": [
      "\u001b[0;34mCBL > \u001b[0mI removed 0 voids in calculating the central density!\n",
      "\u001b[0;34mCBL > \u001b[0mCloud-in-void: 84\n",
      "\u001b[0;34mCBL > \u001b[0mI removed 84 voids in calculating the density contrast!\n"
     ]
    }
   ],
   "source": [
    "if not param.findBool('centralDensity') : \n",
    "    vdcat.compute_centralDensity(trcat,\n",
    "                               ChM,\n",
    "                               trcat.volume(),\n",
    "                               param.findDouble('ratio'))\n",
    "\n",
    "if not param.findBool('densityContrast') :\n",
    "    vdcat.compute_densityContrast(trcat,\n",
    "                                ChM,\n",
    "                                param.findDouble('ratio'))"
   ]
  },
  {
   "cell_type": "markdown",
   "metadata": {},
   "source": [
    "The criterion for the overlap-check is read from the parameter file. In case of overlap: <br>\n",
    "1) if ol_crit = false $\\rightarrow$ the void with the higher central density is rejected, <br>\n",
    "2) if ol_crit = true $\\rightarrow$ the void with the lower density constrast is rejected."
   ]
  },
  {
   "cell_type": "code",
   "execution_count": 634,
   "metadata": {},
   "outputs": [],
   "source": [
    "ol_crit = cbl.Var__DensityContrast_ if param.findInt('ol_crit') == 1 else cbl.Var__CentralDensity_"
   ]
  },
  {
   "cell_type": "markdown",
   "metadata": {},
   "source": [
    "The threshold is the value of the spherically-averaged density contrast ($\\rho_m/\\,\\overline{\\rho}+1$) that each void will contain after the rescaling procedure. In this example, the threshold is not rescaled for different redshifts. This choise is not unique: the prescription is effective as long as the same density contrast is mantained for both the cleaning procedure and the theoretical void size function model."
   ]
  },
  {
   "cell_type": "code",
   "execution_count": 635,
   "metadata": {},
   "outputs": [],
   "source": [
    "threshold = param.findDouble('deltav_NL')+1."
   ]
  },
  {
   "cell_type": "markdown",
   "metadata": {},
   "source": [
    "# Costruct the cleaned catalogue\n",
    "To build the final cleaned void catalogue, you can select different procedures to perform using the following parameters: <br>\n",
    " - clean1 = true $\\rightarrow$ erase voids with underdensities higher than a given threshold<br>\n",
    " - clean2 = true $\\rightarrow$ erase voids with effective radii outside a given range  <br>\n",
    " - clean3 = true $\\rightarrow$ erase voids with density contrast lower than a given value, specified by the 'relevance' parameter <br>\n",
    " - delta_r $\\rightarrow$ range of acceptable radii, voids with radii outside this range are erased <br>\n",
    " - rescale = true $\\rightarrow$ the rescaling procedure will be performed: firstly the algorithm checks if within an initial radius the enclosed density is higher or lower than the selected density threshold; then it shrinks or expands the initial radius to match the required density threshold <br>\n",
    " - overlap = true $\\rightarrow$  overlapping voids are erased from the catalogue: when two voids do overlap one of them is erased according to the chosen overlap criterion."
   ]
  },
  {
   "cell_type": "code",
   "execution_count": 636,
   "metadata": {},
   "outputs": [
    {
     "name": "stdout",
     "output_type": "stream",
     "text": [
      "\n",
      "\n",
      "\n",
      "\u001b[0;34mCBL > \u001b[0m\u001b[0;34m *** CLEANING PROCEDURE STARTED *** \n",
      "\u001b[0m\n",
      "\u001b[0;34mCBL > \u001b[0mVoids in the Catalogue: 1154\n",
      "\n",
      "\u001b[0;34mCBL > \u001b[0m\u001b[0;32m --- Removing spurious voids --- \n",
      "\u001b[0m\n",
      "\u001b[0;34mCBL > \u001b[0mRemoved voids: \n",
      "\t r_min - r_max criterion : 203\n",
      "\t central density too high: 0\n",
      "\t statistically irrelevant: 0\n",
      "\t total removed: 203\n",
      "\u001b[0;34mCBL > \u001b[0mTime spent by the cleaning procedure: 0.000141947 seconds \n",
      "\n",
      "\u001b[0;34mCBL > \u001b[0mVoids in the Catalogue: 951\n",
      "\u001b[0;34mCBL > \u001b[0mSample volume = 1.24994e+08 (Mpc/h)^3\n",
      "\u001b[0;34mCBL > \u001b[0mSample density = 0.00157648 (Mpc/h)^-3\n",
      "\u001b[0;34mCBL > \u001b[0mSample mps = 8.5922 Mpc/h\n",
      "\n",
      "\u001b[0;34mCBL > \u001b[0m\u001b[0;32m --- Rescaling radii --- \n",
      "\u001b[0m\n",
      "\u001b[0;34mCBL > \u001b[0mRemoved voids:   \n",
      "\t Empty voids removed: 0\n",
      "\t Bad rescaled voids removed: 106\n",
      "\t Out of range [17.00,150.00] : 502\n",
      "\u001b[0;34mCBL > \u001b[0mI removed 0 voids in calculating the central density!\n",
      "\u001b[0;34mCBL > \u001b[0mCloud-in-void: 7\n",
      "\u001b[0;34mCBL > \u001b[0mI removed 7 voids in calculating the density contrast!\n",
      "\u001b[0;34mCBL > \u001b[0mTime spent by the rescaling procedure: 3.0529 seconds \n",
      "\n",
      "\u001b[0;34mCBL > \u001b[0mVoids in the Catalogue: 347\n",
      "\n",
      "\u001b[0;34mCBL > \u001b[0m\u001b[0;32m --- Checking for overlapping voids --- \n",
      "\u001b[0m\n",
      "\u001b[0;34mCBL > \u001b[0mI'm sorting the catalogue...\n",
      "\u001b[0;34mCBL > \u001b[0mGenerating chain-mesh for void centres ...\n",
      "\u001b[0;34mCBL > \u001b[0mVoids removed to avoid overlap: 60\n",
      "\u001b[0;34mCBL > \u001b[0mTime spent by the overlap-checking procedure: 0.0121846 seconds\n",
      "\n",
      "\u001b[0;34mCBL > \u001b[0mVoids in the Catalogue: 287\n",
      "\n",
      "\u001b[0;34mCBL > \u001b[0mTotal time spent: 3.10342 seconds \n",
      "\n",
      "Cleaning the catalogue took:  17.61833  sec\n",
      "Wall time:  3.10785388947  sec\n"
     ]
    }
   ],
   "source": [
    "print ('\\n')\n",
    "tw0 = time.time()\n",
    "tc0 = time.clock()\n",
    "vdcat_cleaned = cbl.Catalogue (vdcat,\n",
    "                               [param.findBool('clean1'),\n",
    "                                param.findBool('clean2'),\n",
    "                                param.findBool('clean3')],\n",
    "                               param.findVectorDouble('delta_r'),\n",
    "                               threshold,\n",
    "                               param.findDouble('relevance'),\n",
    "                               param.findBool('rescale'),\n",
    "                               trcat,\n",
    "                               ChM,\n",
    "                               param.findDouble('ratio'),\n",
    "                               param.findBool('overlap'),\n",
    "                               ol_crit)\n",
    "\n",
    "\n",
    "print ('Cleaning the catalogue took: ', time.clock()-tc0, ' sec')\n",
    "print ('Wall time: ', time.time()-tw0, ' sec')"
   ]
  },
  {
   "cell_type": "markdown",
   "metadata": {},
   "source": [
    "In the end, the cleaned catalogue is stored in an ASCII file (if the output directory does not exist, it will be created)."
   ]
  },
  {
   "cell_type": "code",
   "execution_count": 637,
   "metadata": {},
   "outputs": [
    {
     "name": "stdout",
     "output_type": "stream",
     "text": [
      "\n",
      "\n",
      "\u001b[0;34mCBL > \u001b[0mI'm writing the file: ../output/cleaned_void_catalogue.out...\n",
      "\u001b[0;34mCBL > \u001b[0mI wrote the file: ../output/cleaned_void_catalogue.out\n"
     ]
    }
   ],
   "source": [
    "clmnsToPrint = cbl.VarCast(attrAv)\n",
    "\n",
    "if not os.path.exists(param.findString('outputDir')):\n",
    "    os.makedirs(param.findString('outputDir'))\n",
    "    \n",
    "print ('\\n')\n",
    "\n",
    "vdcat_cleaned.write_data(param.findString('outputDir')+param.findString('VoidCatalogueFile'),\n",
    "                         clmnsToPrint)"
   ]
  },
  {
   "cell_type": "markdown",
   "metadata": {},
   "source": [
    "# Compute the void size function\n",
    "Once the cleaned void catalogue is built, the size function can be computed in order to compare the data to the theoretical predictions given by the Vdn model."
   ]
  },
  {
   "cell_type": "markdown",
   "metadata": {},
   "source": [
    "First, you need to import the required CBL functions and the matplotlib packages."
   ]
  },
  {
   "cell_type": "code",
   "execution_count": 638,
   "metadata": {},
   "outputs": [],
   "source": [
    "import matplotlib.pyplot as plt\n",
    "import numpy as np\n",
    "import csv\n",
    "from matplotlib.pyplot import figure\n",
    "%matplotlib inline"
   ]
  },
  {
   "cell_type": "markdown",
   "metadata": {},
   "source": [
    "Set the CosmoBolognaLib and the current directories."
   ]
  },
  {
   "cell_type": "code",
   "execution_count": 639,
   "metadata": {},
   "outputs": [],
   "source": [
    "cbl.SetDirs(os.getcwd()+\"/../../../\", os.getcwd()+\"/\")"
   ]
  },
  {
   "cell_type": "markdown",
   "metadata": {},
   "source": [
    "The cleaned void catalogue is loaded and the peripheral voids (close to the boundaries of the simulation box) are rejected, as their radii are not accurately rescaled by our cleaning algorithm, (periodic boundary conditions have not been implemented yet)."
   ]
  },
  {
   "cell_type": "code",
   "execution_count": 640,
   "metadata": {},
   "outputs": [
    {
     "name": "stdout",
     "output_type": "stream",
     "text": [
      " Input void catalogue:  ../output/cleaned_void_catalogue.out\n",
      "\u001b[0;34mCBL > \u001b[0mI'm reading the catalogue: ../output/cleaned_void_catalogue.out\n",
      "\u001b[0;34mCBL > \u001b[0mSample volume = 8.5184e+07 (Mpc/h)^3\n",
      "\u001b[0;34mCBL > \u001b[0mSample density = 2.16003e-06 (Mpc/h)^-3\n",
      "\u001b[0;34mCBL > \u001b[0mSample mps = 77.3595 Mpc/h\n"
     ]
    }
   ],
   "source": [
    "cast = []\n",
    "clmn = []\n",
    "attrNames = ['X_coord', 'Y_coord', 'Z_coord', 'Radius', 'centralDensity', 'densityContrast']\n",
    "attrAv = [cbl.Var__X_, cbl.Var__Y_, cbl.Var__Z_, cbl.Var__Radius_, cbl.Var__CentralDensity_, cbl.Var__DensityContrast_]\n",
    "for ii in range(len(attrNames)) :\n",
    "    if param.findBool(attrNames[ii]) :\n",
    "        cast.append(attrAv[ii])\n",
    "        clmn.append(param.findInt(attrNames[ii]+'_clmn'))\n",
    "clmn, cast = (list(x) for x in zip(*sorted(zip(clmn, cast))))  # orders clmn and cast according to column order \n",
    "\n",
    "attr = cbl.VarCast(cast)\n",
    "\n",
    "inputVoidCatalogue = param.findString('outputDir')+param.findString('VoidCatalogueFile')\n",
    "\n",
    "print (\" Input void catalogue: \", inputVoidCatalogue)\n",
    "\n",
    "vdcat = cbl.Catalogue (cbl.ObjectType__Void_,\n",
    "                       coordinates,\n",
    "                       attr,\n",
    "                       clmn,\n",
    "                       [inputVoidCatalogue],\n",
    "                       param.findInt('vd_comments'))\n",
    "\n",
    "cut = param.findDouble('cut')\n",
    "vdcat = vdcat.sub_catalogue(cbl.Var__X_, vdcat.Min(cbl.Var__X_)+cut, vdcat.Max(cbl.Var__X_)-cut)\n",
    "vdcat = vdcat.sub_catalogue(cbl.Var__Y_, vdcat.Min(cbl.Var__Y_)+cut, vdcat.Max(cbl.Var__Y_)-cut)\n",
    "vdcat = vdcat.sub_catalogue(cbl.Var__Z_, vdcat.Min(cbl.Var__Z_)+cut, vdcat.Max(cbl.Var__Z_)-cut)\n",
    "\n",
    "if (param.findDouble('boxside') < 0.) :\n",
    "    boxside = abs(vdcat.Max(cbl.Var__X_) - vdcat.Min(cbl.Var__X_))\n",
    "else :\n",
    "    boxside = param.findDouble('boxside')-cut*2.\n",
    "vdcat.compute_catalogueProperties(boxside)"
   ]
  },
  {
   "cell_type": "markdown",
   "metadata": {},
   "source": [
    "According to its definition, the void size funciton can be computed as the comoving number density of voids in logarithmic bins of effective radii, divided by the logarithmic extent of the bins. Here the void abundance is measured with this prescription and saved as a text file. "
   ]
  },
  {
   "cell_type": "code",
   "execution_count": 641,
   "metadata": {},
   "outputs": [
    {
     "name": "stdout",
     "output_type": "stream",
     "text": [
      "\n",
      "\u001b[0;34mCBL > \u001b[0mI wrote the file: ../output/Void_size_distr_z0.00.out\n"
     ]
    }
   ],
   "source": [
    "NC = cbl.NumberCounts1D_Size(vdcat, param.findInt(\"nbin\"), param.findDouble(\"rmin\"), param.findDouble(\"rmax\"),\n",
    "                             param.findDouble(\"shift\"), cbl.HistogramType__dn_dlnV_,vdcat.volume())\n",
    "NC.measure(cbl.ErrorType__Poisson_)\n",
    "NC.write(param.findString(\"outputDir\"), \"Void_size_distr_z%4.2f\"%(param.findDouble(\"redshift\"))+\".out\")\n",
    "\n",
    "rrp, ptp, erp = NC.dataset().xx(), NC.dataset().data(), NC.dataset().error()\n"
   ]
  },
  {
   "cell_type": "markdown",
   "metadata": {},
   "source": [
    "A cosmological model is defined, using the cosmological parameters provided in the parameter file."
   ]
  },
  {
   "cell_type": "code",
   "execution_count": 642,
   "metadata": {},
   "outputs": [],
   "source": [
    "cosm = cbl.Cosmology(param.findDouble('OmM'),\n",
    "                     param.findDouble('Omb'),\n",
    "                     param.findDouble('Omn'),\n",
    "                     param.findDouble('massless'),\n",
    "                     param.findInt('massive'),\n",
    "                     param.findDouble('OmL'),\n",
    "                     param.findDouble('Omr'),\n",
    "                     param.findDouble('hh'),\n",
    "                     param.findDouble('As'),\n",
    "                     param.findDouble('pivot'),\n",
    "                     param.findDouble('ns'),\n",
    "                     param.findDouble('w0'),\n",
    "                     param.findDouble('wa'),\n",
    "                     param.findDouble('fNL'),\n",
    "                     param.findInt('type_NG'),\n",
    "                     param.findDouble('tau'),\n",
    "                     param.findString('model'),\n",
    "                     param.findBool('unit'))\n",
    "\n",
    "cosm.set_sigma8(param.findDouble('sigma8'))"
   ]
  },
  {
   "cell_type": "markdown",
   "metadata": {},
   "source": [
    "The redshift of the catalogue is read from the parameter file."
   ]
  },
  {
   "cell_type": "code",
   "execution_count": 643,
   "metadata": {},
   "outputs": [
    {
     "name": "stdout",
     "output_type": "stream",
     "text": [
      " Redshift = 0.0\n"
     ]
    }
   ],
   "source": [
    "zz = param.findDouble('redshift')\n",
    "print (\" Redshift =\", zz)"
   ]
  },
  {
   "cell_type": "markdown",
   "metadata": {},
   "source": [
    "The effective bias of the mass tracer catalogue has been computed previously by the modelling of large-scale two-point correlation function."
   ]
  },
  {
   "cell_type": "code",
   "execution_count": 644,
   "metadata": {},
   "outputs": [
    {
     "name": "stdout",
     "output_type": "stream",
     "text": [
      " Effective bias = 1.122\n"
     ]
    }
   ],
   "source": [
    "b_eff = param.findDouble('b_eff')\n",
    "print (\" Effective bias =\", b_eff)"
   ]
  },
  {
   "cell_type": "markdown",
   "metadata": {},
   "source": [
    "The effective bias has to be converted to recover the one that characterises the relation between the tracer and the dark matter distribution inside cosmic voids. To do that, a pre-calibrated linear relation is used (see Contarini et al. 2019)."
   ]
  },
  {
   "cell_type": "code",
   "execution_count": 645,
   "metadata": {},
   "outputs": [],
   "source": [
    "slope = param.findDouble('slope')\n",
    "offset = param.findDouble('offset')"
   ]
  },
  {
   "cell_type": "markdown",
   "metadata": {},
   "source": [
    "Non-linear underdensity threshold used to compute the theoretical model."
   ]
  },
  {
   "cell_type": "code",
   "execution_count": 646,
   "metadata": {},
   "outputs": [
    {
     "name": "stdout",
     "output_type": "stream",
     "text": [
      " Non-linear underdensity threshold = -0.7\n"
     ]
    }
   ],
   "source": [
    "del_v = param.findDouble('deltav_NL')\n",
    "print (\" Non-linear underdensity threshold =\", del_v)"
   ]
  },
  {
   "cell_type": "markdown",
   "metadata": {},
   "source": [
    "The theoretical void size function is computed at different radii and is rescaled to take into account the effect of the tracer bias."
   ]
  },
  {
   "cell_type": "code",
   "execution_count": 647,
   "metadata": {},
   "outputs": [],
   "source": [
    "rrt = np.linspace(param.findDouble('xmin'), param.findDouble('xmax'), param.findInt('ngrid'))\n",
    "\n",
    "sff = []\n",
    "for jj in range(len(rrt)):\n",
    "    sff.append(cosm.size_function(rrt[jj], zz, \"Vdn\", b_eff, slope, offset, del_v))"
   ]
  },
  {
   "cell_type": "markdown",
   "metadata": {},
   "source": [
    "The results are plotted to compare the measured void abundances with the theoretical predictions."
   ]
  },
  {
   "cell_type": "code",
   "execution_count": 655,
   "metadata": {},
   "outputs": [
    {
     "data": {
      "text/plain": [
       "<matplotlib.legend.Legend at 0x7f219d062690>"
      ]
     },
     "execution_count": 655,
     "metadata": {},
     "output_type": "execute_result"
    },
    {
     "data": {
      "image/png": "[encoded data removed]",
      "text/plain": [
       "<Figure size 600x600 with 1 Axes>"
      ]
     },
     "metadata": {},
     "output_type": "display_data"
    }
   ],
   "source": [
    "figure(num=None, figsize=(6, 6), dpi=100, facecolor='w', edgecolor='k')\n",
    "\n",
    "ax = plt.gca()\n",
    "\n",
    "ax.set_xscale('log')\n",
    "ax.set_yscale('log')\n",
    "\n",
    "ax.xaxis.set_ticks([2.e+1, 2.5e+1, 3.e+1, 3.5e+1, 4.e+1, 4.5e+1 ,5.e+1, 5.5e+1, 6.e+1, 6.5e+1, 7.e+1])\n",
    "ax.minorticks_off()\n",
    "ax.xaxis.set_ticklabels(['$20$', '$25$', '$30$', '$35$', '$40$', '$45$', '$50$', '$55$', '$60$', '$65$', '$70$'])#, fontsize=11)\n",
    "ax.yaxis.set_ticks([1.e-11, 1.e-10, 1.e-9, 1.e-8, 1.e-7, 1.e-6, 1.e-5, 1.e-4])\n",
    "ax.yaxis.set_ticklabels(['$-11$', '$-10$', '$-9$', '$-8$', '$-7$', '$-6$', '$-5$', '$-4$']) #, fontsize=11) #, fontsize=18)\n",
    "ax.grid(zorder=0, color='lightgray', alpha=0.3)\n",
    "ax.set_xlabel(\"$r_{eff}\\\\ [\\\\mathrm{Mpc}/h]$\", fontsize=16)\n",
    "ax.set_ylabel(\"$\\ \\log (\\mathrm{d}n/\\mathrm{d}ln{r})\\\\ [(h/\\\\mathrm{Mpc})^3]$\", fontsize=16)\n",
    "ax.get_yaxis().set_tick_params(which='both', direction='in', labelsize=14)\n",
    "ax.get_xaxis().set_tick_params(which='both', direction='in', labelsize=14)\n",
    "\n",
    "ax.plot(rrp, ptp, \"or\", label = \"Void counts\", markersize=7, color=\"gold\", markeredgecolor='black', markeredgewidth=1.3, zorder=3)\n",
    "ax.errorbar(rrp, ptp, yerr=erp, fmt='none', ecolor='k', elinewidth=1.5, zorder=3)\n",
    "\n",
    "ax.plot(rrt, sff, color='mediumseagreen', linewidth=2, ls='-', alpha=0.8, label = \"Re-parametrised Vdn model\")\n",
    "\n",
    "ptp = [ptp[ii] for ii in range(len(ptp)) if ptp[ii]>0]\n",
    "\n",
    "ax.set_ylim([min(ptp)*0.1, max(ptp)*10])\n",
    "ax.set_xlim([param.findDouble('xmin'), param.findDouble('xmax')])\n",
    "\n",
    "ax.legend(loc='best', fontsize=14, numpoints=1)\n"
   ]
  },
  {
   "cell_type": "code",
   "execution_count": null,
   "metadata": {},
   "outputs": [],
   "source": []
  }
 ],
 "metadata": {
  "hide_input": false,
  "kernelspec": {
   "display_name": "Python 2",
   "language": "python",
   "name": "python2"
  },
  "language_info": {
   "codemirror_mode": {
    "name": "ipython",
    "version": 2
   },
   "file_extension": ".py",
   "mimetype": "text/x-python",
   "name": "python",
   "nbconvert_exporter": "python",
   "pygments_lexer": "ipython2",
   "version": "2.7.17"
  },
  "latex_envs": {
   "LaTeX_envs_menu_present": true,
   "autoclose": false,
   "autocomplete": true,
   "bibliofile": "biblio.bib",
   "cite_by": "apalike",
   "current_citInitial": 1,
   "eqLabelWithNumbers": true,
   "eqNumInitial": 1,
   "hotkeys": {
    "equation": "Ctrl-E",
    "itemize": "Ctrl-I"
   },
   "labels_anchors": false,
   "latex_user_defs": false,
   "report_style_numbering": false,
   "user_envs_cfg": false
  },
  "toc": {
   "base_numbering": 1,
   "nav_menu": {},
   "number_sections": true,
   "sideBar": true,
   "skip_h1_title": false,
   "title_cell": "Table of Contents",
   "title_sidebar": "Contents",
   "toc_cell": false,
   "toc_position": {},
   "toc_section_display": true,
   "toc_window_display": false
  }
 },
 "nbformat": 4,
 "nbformat_minor": 2
}
